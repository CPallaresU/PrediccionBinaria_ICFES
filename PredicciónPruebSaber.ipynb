{
  "nbformat": 4,
  "nbformat_minor": 0,
  "metadata": {
    "kernelspec": {
      "display_name": "Python 3",
      "language": "python",
      "name": "python3"
    },
    "language_info": {
      "codemirror_mode": {
        "name": "ipython",
        "version": 3
      },
      "file_extension": ".py",
      "mimetype": "text/x-python",
      "name": "python",
      "nbconvert_exporter": "python",
      "pygments_lexer": "ipython3",
      "version": "3.8.5"
    },
    "colab": {
      "name": "saber.ipynb",
      "provenance": []
    }
  },
  "cells": [
    {
      "cell_type": "code",
      "metadata": {
        "colab": {
          "base_uri": "https://localhost:8080/"
        },
        "id": "LOrH6VGa59X7",
        "outputId": "d1982385-4dfb-445c-9c34-fda648fbe205"
      },
      "source": [
        "import pandas as pd\n",
        "import seaborn as sns\n",
        "import numpy as np\n",
        "import math\n",
        "import matplotlib.pyplot as plt\n",
        "import scipy\n",
        "from scipy.stats import chi2\n",
        "from scipy.stats import chi2_contingency\n",
        "import statsmodels.formula.api as sm\n",
        "import numpy as np\n",
        "import pandas as pd\n",
        "import matplotlib.pyplot as plt\n",
        "%matplotlib inline"
      ],
      "execution_count": null,
      "outputs": [
        {
          "output_type": "stream",
          "text": [
            "/usr/local/lib/python3.6/dist-packages/statsmodels/tools/_testing.py:19: FutureWarning: pandas.util.testing is deprecated. Use the functions in the public API at pandas.testing instead.\n",
            "  import pandas.util.testing as tm\n"
          ],
          "name": "stderr"
        }
      ]
    },
    {
      "cell_type": "markdown",
      "metadata": {
        "id": "kBrYLfNU59YT"
      },
      "source": [
        "# Neural Network"
      ]
    },
    {
      "cell_type": "code",
      "metadata": {
        "colab": {
          "base_uri": "https://localhost:8080/"
        },
        "id": "bu-yuAQ459YT",
        "outputId": "7251a18d-6344-4fd1-c19d-46d8b348d8bd"
      },
      "source": [
        "from google.colab import drive\n",
        "drive.mount('/content/drive')"
      ],
      "execution_count": null,
      "outputs": [
        {
          "output_type": "stream",
          "text": [
            "Drive already mounted at /content/drive; to attempt to forcibly remount, call drive.mount(\"/content/drive\", force_remount=True).\n"
          ],
          "name": "stdout"
        }
      ]
    },
    {
      "cell_type": "code",
      "metadata": {
        "colab": {
          "base_uri": "https://localhost:8080/"
        },
        "id": "DU0WsZIS59YT",
        "outputId": "f239838b-ba2e-4514-f03a-c7464ef1e542"
      },
      "source": [
        "df=pd.read_csv('/content/drive/MyDrive/CursoEdx/Icfes/saber.csv')\n",
        "df=df[[\"ESTU_GENERO\",\"FAMI_ESTRATOVIVIENDA\",\"ESTU_DEDICACIONLECTURADIARIA\",\"COLE_NATURALEZA\",\"COLE_JORNADA\",\"PUNT_GLOBAL\",\"FAMI_EDUCACIONPADRE\",\"FAMI_EDUCACIONMADRE\",\"FAMI_TIENEINTERNET\"]]\n",
        "dfP=df[\"PUNT_GLOBAL\"]\n",
        "df=df.replace(\"-\",np.nan)\n",
        "df=df.dropna()"
      ],
      "execution_count": null,
      "outputs": [
        {
          "output_type": "stream",
          "text": [
            "/usr/local/lib/python3.6/dist-packages/IPython/core/interactiveshell.py:2718: DtypeWarning: Columns (76,78) have mixed types.Specify dtype option on import or set low_memory=False.\n",
            "  interactivity=interactivity, compiler=compiler, result=result)\n"
          ],
          "name": "stderr"
        }
      ]
    },
    {
      "cell_type": "code",
      "metadata": {
        "colab": {
          "base_uri": "https://localhost:8080/",
          "height": 302
        },
        "id": "oXjJT3sW59YU",
        "outputId": "9a86f132-bb0a-4ee3-dbe4-b2338d8b529f"
      },
      "source": [
        "df.head()"
      ],
      "execution_count": null,
      "outputs": [
        {
          "output_type": "execute_result",
          "data": {
            "text/html": [
              "<div>\n",
              "<style scoped>\n",
              "    .dataframe tbody tr th:only-of-type {\n",
              "        vertical-align: middle;\n",
              "    }\n",
              "\n",
              "    .dataframe tbody tr th {\n",
              "        vertical-align: top;\n",
              "    }\n",
              "\n",
              "    .dataframe thead th {\n",
              "        text-align: right;\n",
              "    }\n",
              "</style>\n",
              "<table border=\"1\" class=\"dataframe\">\n",
              "  <thead>\n",
              "    <tr style=\"text-align: right;\">\n",
              "      <th></th>\n",
              "      <th>ESTU_GENERO</th>\n",
              "      <th>FAMI_ESTRATOVIVIENDA</th>\n",
              "      <th>ESTU_DEDICACIONLECTURADIARIA</th>\n",
              "      <th>COLE_NATURALEZA</th>\n",
              "      <th>COLE_JORNADA</th>\n",
              "      <th>PUNT_GLOBAL</th>\n",
              "      <th>FAMI_EDUCACIONPADRE</th>\n",
              "      <th>FAMI_EDUCACIONMADRE</th>\n",
              "      <th>FAMI_TIENEINTERNET</th>\n",
              "    </tr>\n",
              "  </thead>\n",
              "  <tbody>\n",
              "    <tr>\n",
              "      <th>0</th>\n",
              "      <td>M</td>\n",
              "      <td>Estrato 3</td>\n",
              "      <td>Entre 30 y 60 minutos</td>\n",
              "      <td>OFICIAL</td>\n",
              "      <td>MAÑANA</td>\n",
              "      <td>208</td>\n",
              "      <td>Educación profesional completa</td>\n",
              "      <td>Secundaria (Bachillerato) completa</td>\n",
              "      <td>Si</td>\n",
              "    </tr>\n",
              "    <tr>\n",
              "      <th>1</th>\n",
              "      <td>M</td>\n",
              "      <td>Estrato 3</td>\n",
              "      <td>Entre 30 y 60 minutos</td>\n",
              "      <td>NO OFICIAL</td>\n",
              "      <td>COMPLETA</td>\n",
              "      <td>299</td>\n",
              "      <td>Técnica o tecnológica completa</td>\n",
              "      <td>Técnica o tecnológica completa</td>\n",
              "      <td>Si</td>\n",
              "    </tr>\n",
              "    <tr>\n",
              "      <th>2</th>\n",
              "      <td>M</td>\n",
              "      <td>Estrato 1</td>\n",
              "      <td>Entre 30 y 60 minutos</td>\n",
              "      <td>OFICIAL</td>\n",
              "      <td>MAÑANA</td>\n",
              "      <td>299</td>\n",
              "      <td>Secundaria (Bachillerato) completa</td>\n",
              "      <td>Secundaria (Bachillerato) completa</td>\n",
              "      <td>No</td>\n",
              "    </tr>\n",
              "    <tr>\n",
              "      <th>3</th>\n",
              "      <td>M</td>\n",
              "      <td>Estrato 3</td>\n",
              "      <td>30 minutos o menos</td>\n",
              "      <td>OFICIAL</td>\n",
              "      <td>MAÑANA</td>\n",
              "      <td>309</td>\n",
              "      <td>Primaria incompleta</td>\n",
              "      <td>Secundaria (Bachillerato) completa</td>\n",
              "      <td>No</td>\n",
              "    </tr>\n",
              "    <tr>\n",
              "      <th>4</th>\n",
              "      <td>M</td>\n",
              "      <td>Estrato 3</td>\n",
              "      <td>No leo por entretenimiento</td>\n",
              "      <td>OFICIAL</td>\n",
              "      <td>MAÑANA</td>\n",
              "      <td>288</td>\n",
              "      <td>Secundaria (Bachillerato) completa</td>\n",
              "      <td>Secundaria (Bachillerato) incompleta</td>\n",
              "      <td>Si</td>\n",
              "    </tr>\n",
              "  </tbody>\n",
              "</table>\n",
              "</div>"
            ],
            "text/plain": [
              "  ESTU_GENERO  ... FAMI_TIENEINTERNET\n",
              "0           M  ...                 Si\n",
              "1           M  ...                 Si\n",
              "2           M  ...                 No\n",
              "3           M  ...                 No\n",
              "4           M  ...                 Si\n",
              "\n",
              "[5 rows x 9 columns]"
            ]
          },
          "metadata": {
            "tags": []
          },
          "execution_count": 4
        }
      ]
    },
    {
      "cell_type": "markdown",
      "metadata": {
        "id": "mXqkVUCC59YU"
      },
      "source": [
        "# Primero pasamos de categorico a númerico"
      ]
    },
    {
      "cell_type": "code",
      "metadata": {
        "colab": {
          "base_uri": "https://localhost:8080/"
        },
        "id": "hNLv-m7Y59YU",
        "outputId": "63da6491-d3e4-477f-852f-411fd309efd3"
      },
      "source": [
        "df[\"FAMI_EDUCACIONPADRE\"].unique()"
      ],
      "execution_count": null,
      "outputs": [
        {
          "output_type": "execute_result",
          "data": {
            "text/plain": [
              "array(['Educación profesional completa', 'Técnica o tecnológica completa',\n",
              "       'Secundaria (Bachillerato) completa', 'Primaria incompleta',\n",
              "       'No sabe', 'Secundaria (Bachillerato) incompleta',\n",
              "       'Primaria completa', 'Educación profesional incompleta',\n",
              "       'Postgrado', 'Técnica o tecnológica incompleta', 'No Aplica',\n",
              "       'Ninguno'], dtype=object)"
            ]
          },
          "metadata": {
            "tags": []
          },
          "execution_count": 5
        }
      ]
    },
    {
      "cell_type": "code",
      "metadata": {
        "id": "wHR1Ipyh59YU"
      },
      "source": [
        "listaPr=[]\n",
        "for i in df[\"FAMI_EDUCACIONMADRE\"]:\n",
        "    if i == \"Ninguno\":\n",
        "            listaPr.append(-20)    \n",
        "            continue;\n",
        "    if i == \"No Aplica\":\n",
        "            listaPr.append(-10)\n",
        "            continue;\n",
        "    if i == \"No sabe\":\n",
        "            listaPr.append(0)\n",
        "            continue;\n",
        "    if i == \"Primaria completa\":\n",
        "            listaPr.append(10)\n",
        "            continue;\n",
        "    if i == \"Primaria incompleta\":\n",
        "            listaPr.append(20)\n",
        "            continue;\n",
        "    if i == \"Secundaria (Bachillerato) completa\":\n",
        "            listaPr.append(30)\n",
        "            continue;\n",
        "    if i == \"Secundaria (Bachillerato) incompleta\":\n",
        "            listaPr.append(40)\n",
        "            continue;\n",
        "    if i == \"Técnica o tecnológica completa\":\n",
        "            listaPr.append(50)\n",
        "            continue;\n",
        "    if i == \"Técnica o tecnológica incompleta\":\n",
        "            listaPr.append(60)\n",
        "            continue;\n",
        "    if i == \"Educación profesional completa\":\n",
        "            listaPr.append(70)\n",
        "            continue;\n",
        "    if i == \"Educación profesional incompleta\":\n",
        "            listaPr.append(80)\n",
        "            continue;\n",
        "    if i == \"Postgrado\":\n",
        "            listaPr.append(90)\n",
        "            continue;\n",
        "df[\"FAMI_EDUCACIONMADRE\"]=listaPr"
      ],
      "execution_count": null,
      "outputs": []
    },
    {
      "cell_type": "code",
      "metadata": {
        "id": "S4ZzGBUw59YV"
      },
      "source": [
        "listaPr=[]\n",
        "for i in df[\"FAMI_EDUCACIONPADRE\"]:\n",
        "    if i == \"Ninguno\":\n",
        "            listaPr.append(-20)    \n",
        "            continue;\n",
        "    if i == \"No Aplica\":\n",
        "            listaPr.append(-10)\n",
        "            continue;\n",
        "    if i == \"No sabe\":\n",
        "            listaPr.append(0)\n",
        "            continue;\n",
        "    if i == \"Primaria completa\":\n",
        "            listaPr.append(10)\n",
        "            continue;\n",
        "    if i == \"Primaria incompleta\":\n",
        "            listaPr.append(20)\n",
        "            continue;\n",
        "    if i == \"Secundaria (Bachillerato) completa\":\n",
        "            listaPr.append(30)\n",
        "            continue;\n",
        "    if i == \"Secundaria (Bachillerato) incompleta\":\n",
        "            listaPr.append(40)\n",
        "            continue;\n",
        "    if i == \"Técnica o tecnológica completa\":\n",
        "            listaPr.append(50)\n",
        "            continue;\n",
        "    if i == \"Técnica o tecnológica incompleta\":\n",
        "            listaPr.append(60)\n",
        "            continue;\n",
        "    if i == \"Educación profesional completa\":\n",
        "            listaPr.append(70)\n",
        "            continue;\n",
        "    if i == \"Educación profesional incompleta\":\n",
        "            listaPr.append(80)\n",
        "            continue;\n",
        "    if i == \"Postgrado\":\n",
        "            listaPr.append(90)\n",
        "            continue;\n",
        "df[\"FAMI_EDUCACIONPADRE\"]=listaPr"
      ],
      "execution_count": null,
      "outputs": []
    },
    {
      "cell_type": "code",
      "metadata": {
        "id": "YNMFOcGC59YV"
      },
      "source": [
        "lista=[]\n",
        "for i in df[\"FAMI_ESTRATOVIVIENDA\"]:\n",
        "    if i == \"Estrato 1\":\n",
        "            lista.append(10)\n",
        "            continue;\n",
        "    if i == \"Estrato 2\":\n",
        "            lista.append(20)\n",
        "            continue;\n",
        "    if i == \"Estrato 3\":\n",
        "            lista.append(30)\n",
        "            continue;\n",
        "    if i == \"Estrato 4\":\n",
        "            lista.append(40)\n",
        "            continue;\n",
        "    if i == \"Estrato 5\":\n",
        "            lista.append(50)\n",
        "            continue;\n",
        "    if i == \"Estrato 6\":\n",
        "            lista.append(60)\n",
        "            continue;\n",
        "    if i == \"Sin Estrato\":\n",
        "            lista.append(0)\n",
        "df[\"FAMI_ESTRATOVIVIENDA\"]=lista"
      ],
      "execution_count": null,
      "outputs": []
    },
    {
      "cell_type": "code",
      "metadata": {
        "id": "gTR_inLJ59YW"
      },
      "source": [
        "listaP=[]\n",
        "for i in df[\"PUNT_GLOBAL\"]:\n",
        "    if (i < 200):\n",
        "        listaP.append(0)\n",
        "        continue;\n",
        "    if  (i >199 and i<400 ):\n",
        "        listaP.append(1)\n",
        "        continue;\n",
        "    #if (i > 299 and i<400):\n",
        "        #listaP.append(0)\n",
        "        continue;\n",
        "    if (i>399):\n",
        "        listaP.append(1)\n",
        "        continue;\n",
        "#print(str(np.array(listaP).shape)+\"xxx\")\n",
        "df[\"PUNT_GLOBAL\"]=listaP\n",
        "#print(df.shape)"
      ],
      "execution_count": null,
      "outputs": []
    },
    {
      "cell_type": "code",
      "metadata": {
        "id": "3z2wGOyV59YW"
      },
      "source": [
        "listaM=[]\n",
        "for j in df[\"ESTU_GENERO\"]:\n",
        "    if j == \"F\":\n",
        "            listaM.append(0)\n",
        "            continue;\n",
        "    if j == \"M\":\n",
        "            listaM.append(1)\n",
        "df[\"ESTU_GENERO\"]=listaM"
      ],
      "execution_count": null,
      "outputs": []
    },
    {
      "cell_type": "code",
      "metadata": {
        "id": "RxpsBuA459YW"
      },
      "source": [
        "listaC=[]\n",
        "for k in df[\"COLE_NATURALEZA\"]:\n",
        "    if k == \"NO OFICIAL\":\n",
        "        listaC.append(1);\n",
        "        continue;\n",
        "    if k == \"OFICIAL\":\n",
        "        listaC.append(0)\n",
        "        continue;\n",
        "df[\"COLE_NATURALEZA\"]=listaC"
      ],
      "execution_count": null,
      "outputs": []
    },
    {
      "cell_type": "code",
      "metadata": {
        "id": "25zuySTk59YW"
      },
      "source": [
        "listaJ=[]\n",
        "for t in df[\"COLE_JORNADA\"]:\n",
        "    if t == \"COMPLETA\":\n",
        "            listaJ.append(15)\n",
        "            continue;\n",
        "    if t == \"MAÑANA\":\n",
        "            listaJ.append(20)\n",
        "            continue;\n",
        "    if t == \"NOCHE\":\n",
        "            listaJ.append(30)\n",
        "            continue;\n",
        "    if t == \"SABATINA\":\n",
        "            listaJ.append(35)\n",
        "            continue;\n",
        "    if t == \"TARDE\":\n",
        "            listaJ.append(40)\n",
        "            continue;\n",
        "    if t == \"UNICA\":\n",
        "            listaJ.append(10)\n",
        "            continue;\n",
        "df[\"COLE_JORNADA\"]=listaJ"
      ],
      "execution_count": null,
      "outputs": []
    },
    {
      "cell_type": "code",
      "metadata": {
        "colab": {
          "base_uri": "https://localhost:8080/"
        },
        "id": "-ZdmDg9L59YX",
        "outputId": "e1dbca99-d1e3-48f7-e83e-40cdb86051ae"
      },
      "source": [
        "df[\"ESTU_DEDICACIONLECTURADIARIA\"].unique()"
      ],
      "execution_count": null,
      "outputs": [
        {
          "output_type": "execute_result",
          "data": {
            "text/plain": [
              "array(['Entre 30 y 60 minutos', '30 minutos o menos',\n",
              "       'No leo por entretenimiento', 'Entre 1 y 2 horas',\n",
              "       'Más de 2 horas'], dtype=object)"
            ]
          },
          "metadata": {
            "tags": []
          },
          "execution_count": 13
        }
      ]
    },
    {
      "cell_type": "code",
      "metadata": {
        "id": "W0auww9B59YX"
      },
      "source": [
        "listaD=[]\n",
        "for t in df[\"ESTU_DEDICACIONLECTURADIARIA\"]:\n",
        "    if t == \"Entre 30 y 60 minutos\":\n",
        "            listaD.append(60)\n",
        "            continue;\n",
        "    if t == \"30 minutos o menos\":\n",
        "            listaD.append(30)\n",
        "            continue;\n",
        "    if t == \"No leo por entretenimiento\":\n",
        "            listaD.append(0)\n",
        "            continue;\n",
        "    if t == \"Entre 1 y 2 horas\":\n",
        "            listaD.append(120)\n",
        "            continue;\n",
        "    if t == \"Más de 2 horas\":\n",
        "            listaD.append(180)\n",
        "            continue;\n",
        "df[\"ESTU_DEDICACIONLECTURADIARIA\"]=listaD"
      ],
      "execution_count": null,
      "outputs": []
    },
    {
      "cell_type": "code",
      "metadata": {
        "colab": {
          "base_uri": "https://localhost:8080/"
        },
        "id": "u5LoNRNn59YY",
        "outputId": "8e6ff57d-6654-4f29-8b27-ff31103311ec"
      },
      "source": [
        "df.shape\n",
        "#df[\"EDU\"]=(df[\"FAMI_EDUCACIONPADRE\"]+df[\"FAMI_EDUCACIONMADRE\"])/2"
      ],
      "execution_count": null,
      "outputs": [
        {
          "output_type": "execute_result",
          "data": {
            "text/plain": [
              "(506297, 9)"
            ]
          },
          "metadata": {
            "tags": []
          },
          "execution_count": 15
        }
      ]
    },
    {
      "cell_type": "code",
      "metadata": {
        "id": "x0q6loY559YY"
      },
      "source": [
        "from sklearn.model_selection import train_test_split\n",
        "from tensorflow import keras\n",
        "from tensorflow.keras import layers\n",
        "from tensorflow.keras.optimizers import SGD\n",
        "from sklearn.preprocessing import MinMaxScaler"
      ],
      "execution_count": null,
      "outputs": []
    },
    {
      "cell_type": "code",
      "metadata": {
        "colab": {
          "base_uri": "https://localhost:8080/",
          "height": 188
        },
        "id": "CuFR4YxO59YY",
        "outputId": "e1835332-dc5a-41a3-ffca-ef96db28aad5"
      },
      "source": [
        "df.groupby(\"PUNT_GLOBAL\").describe()"
      ],
      "execution_count": null,
      "outputs": [
        {
          "output_type": "execute_result",
          "data": {
            "text/html": [
              "<div>\n",
              "<style scoped>\n",
              "    .dataframe tbody tr th:only-of-type {\n",
              "        vertical-align: middle;\n",
              "    }\n",
              "\n",
              "    .dataframe tbody tr th {\n",
              "        vertical-align: top;\n",
              "    }\n",
              "\n",
              "    .dataframe thead tr th {\n",
              "        text-align: left;\n",
              "    }\n",
              "\n",
              "    .dataframe thead tr:last-of-type th {\n",
              "        text-align: right;\n",
              "    }\n",
              "</style>\n",
              "<table border=\"1\" class=\"dataframe\">\n",
              "  <thead>\n",
              "    <tr>\n",
              "      <th></th>\n",
              "      <th colspan=\"8\" halign=\"left\">ESTU_GENERO</th>\n",
              "      <th colspan=\"8\" halign=\"left\">FAMI_ESTRATOVIVIENDA</th>\n",
              "      <th colspan=\"8\" halign=\"left\">ESTU_DEDICACIONLECTURADIARIA</th>\n",
              "      <th colspan=\"8\" halign=\"left\">COLE_NATURALEZA</th>\n",
              "      <th colspan=\"8\" halign=\"left\">COLE_JORNADA</th>\n",
              "      <th colspan=\"8\" halign=\"left\">FAMI_EDUCACIONPADRE</th>\n",
              "      <th colspan=\"8\" halign=\"left\">FAMI_EDUCACIONMADRE</th>\n",
              "    </tr>\n",
              "    <tr>\n",
              "      <th></th>\n",
              "      <th>count</th>\n",
              "      <th>mean</th>\n",
              "      <th>std</th>\n",
              "      <th>min</th>\n",
              "      <th>25%</th>\n",
              "      <th>50%</th>\n",
              "      <th>75%</th>\n",
              "      <th>max</th>\n",
              "      <th>count</th>\n",
              "      <th>mean</th>\n",
              "      <th>std</th>\n",
              "      <th>min</th>\n",
              "      <th>25%</th>\n",
              "      <th>50%</th>\n",
              "      <th>75%</th>\n",
              "      <th>max</th>\n",
              "      <th>count</th>\n",
              "      <th>mean</th>\n",
              "      <th>std</th>\n",
              "      <th>min</th>\n",
              "      <th>25%</th>\n",
              "      <th>50%</th>\n",
              "      <th>75%</th>\n",
              "      <th>max</th>\n",
              "      <th>count</th>\n",
              "      <th>mean</th>\n",
              "      <th>std</th>\n",
              "      <th>min</th>\n",
              "      <th>25%</th>\n",
              "      <th>50%</th>\n",
              "      <th>75%</th>\n",
              "      <th>max</th>\n",
              "      <th>count</th>\n",
              "      <th>mean</th>\n",
              "      <th>std</th>\n",
              "      <th>min</th>\n",
              "      <th>25%</th>\n",
              "      <th>50%</th>\n",
              "      <th>75%</th>\n",
              "      <th>max</th>\n",
              "      <th>count</th>\n",
              "      <th>mean</th>\n",
              "      <th>std</th>\n",
              "      <th>min</th>\n",
              "      <th>25%</th>\n",
              "      <th>50%</th>\n",
              "      <th>75%</th>\n",
              "      <th>max</th>\n",
              "      <th>count</th>\n",
              "      <th>mean</th>\n",
              "      <th>std</th>\n",
              "      <th>min</th>\n",
              "      <th>25%</th>\n",
              "      <th>50%</th>\n",
              "      <th>75%</th>\n",
              "      <th>max</th>\n",
              "    </tr>\n",
              "    <tr>\n",
              "      <th>PUNT_GLOBAL</th>\n",
              "      <th></th>\n",
              "      <th></th>\n",
              "      <th></th>\n",
              "      <th></th>\n",
              "      <th></th>\n",
              "      <th></th>\n",
              "      <th></th>\n",
              "      <th></th>\n",
              "      <th></th>\n",
              "      <th></th>\n",
              "      <th></th>\n",
              "      <th></th>\n",
              "      <th></th>\n",
              "      <th></th>\n",
              "      <th></th>\n",
              "      <th></th>\n",
              "      <th></th>\n",
              "      <th></th>\n",
              "      <th></th>\n",
              "      <th></th>\n",
              "      <th></th>\n",
              "      <th></th>\n",
              "      <th></th>\n",
              "      <th></th>\n",
              "      <th></th>\n",
              "      <th></th>\n",
              "      <th></th>\n",
              "      <th></th>\n",
              "      <th></th>\n",
              "      <th></th>\n",
              "      <th></th>\n",
              "      <th></th>\n",
              "      <th></th>\n",
              "      <th></th>\n",
              "      <th></th>\n",
              "      <th></th>\n",
              "      <th></th>\n",
              "      <th></th>\n",
              "      <th></th>\n",
              "      <th></th>\n",
              "      <th></th>\n",
              "      <th></th>\n",
              "      <th></th>\n",
              "      <th></th>\n",
              "      <th></th>\n",
              "      <th></th>\n",
              "      <th></th>\n",
              "      <th></th>\n",
              "      <th></th>\n",
              "      <th></th>\n",
              "      <th></th>\n",
              "      <th></th>\n",
              "      <th></th>\n",
              "      <th></th>\n",
              "      <th></th>\n",
              "      <th></th>\n",
              "    </tr>\n",
              "  </thead>\n",
              "  <tbody>\n",
              "    <tr>\n",
              "      <th>0</th>\n",
              "      <td>95221.0</td>\n",
              "      <td>0.413365</td>\n",
              "      <td>0.49244</td>\n",
              "      <td>0.0</td>\n",
              "      <td>0.0</td>\n",
              "      <td>0.0</td>\n",
              "      <td>1.0</td>\n",
              "      <td>1.0</td>\n",
              "      <td>95221.0</td>\n",
              "      <td>17.742200</td>\n",
              "      <td>11.709793</td>\n",
              "      <td>0.0</td>\n",
              "      <td>10.0</td>\n",
              "      <td>20.0</td>\n",
              "      <td>20.0</td>\n",
              "      <td>60.0</td>\n",
              "      <td>95221.0</td>\n",
              "      <td>41.267998</td>\n",
              "      <td>39.712063</td>\n",
              "      <td>0.0</td>\n",
              "      <td>30.0</td>\n",
              "      <td>30.0</td>\n",
              "      <td>60.0</td>\n",
              "      <td>180.0</td>\n",
              "      <td>95221.0</td>\n",
              "      <td>0.179593</td>\n",
              "      <td>0.383850</td>\n",
              "      <td>0.0</td>\n",
              "      <td>0.0</td>\n",
              "      <td>0.0</td>\n",
              "      <td>0.0</td>\n",
              "      <td>1.0</td>\n",
              "      <td>95221.0</td>\n",
              "      <td>24.509614</td>\n",
              "      <td>8.945550</td>\n",
              "      <td>10.0</td>\n",
              "      <td>20.0</td>\n",
              "      <td>20.0</td>\n",
              "      <td>35.0</td>\n",
              "      <td>40.0</td>\n",
              "      <td>95221.0</td>\n",
              "      <td>22.915953</td>\n",
              "      <td>21.431631</td>\n",
              "      <td>-20.0</td>\n",
              "      <td>10.0</td>\n",
              "      <td>20.0</td>\n",
              "      <td>30.0</td>\n",
              "      <td>90.0</td>\n",
              "      <td>95221.0</td>\n",
              "      <td>26.701148</td>\n",
              "      <td>20.507468</td>\n",
              "      <td>-20.0</td>\n",
              "      <td>20.0</td>\n",
              "      <td>30.0</td>\n",
              "      <td>40.0</td>\n",
              "      <td>90.0</td>\n",
              "    </tr>\n",
              "    <tr>\n",
              "      <th>1</th>\n",
              "      <td>411076.0</td>\n",
              "      <td>0.468697</td>\n",
              "      <td>0.49902</td>\n",
              "      <td>0.0</td>\n",
              "      <td>0.0</td>\n",
              "      <td>0.0</td>\n",
              "      <td>1.0</td>\n",
              "      <td>1.0</td>\n",
              "      <td>411076.0</td>\n",
              "      <td>20.632973</td>\n",
              "      <td>10.180957</td>\n",
              "      <td>0.0</td>\n",
              "      <td>10.0</td>\n",
              "      <td>20.0</td>\n",
              "      <td>30.0</td>\n",
              "      <td>60.0</td>\n",
              "      <td>411076.0</td>\n",
              "      <td>50.062422</td>\n",
              "      <td>43.280613</td>\n",
              "      <td>0.0</td>\n",
              "      <td>30.0</td>\n",
              "      <td>30.0</td>\n",
              "      <td>60.0</td>\n",
              "      <td>180.0</td>\n",
              "      <td>411076.0</td>\n",
              "      <td>0.252114</td>\n",
              "      <td>0.434227</td>\n",
              "      <td>0.0</td>\n",
              "      <td>0.0</td>\n",
              "      <td>0.0</td>\n",
              "      <td>1.0</td>\n",
              "      <td>1.0</td>\n",
              "      <td>411076.0</td>\n",
              "      <td>20.954775</td>\n",
              "      <td>8.673133</td>\n",
              "      <td>10.0</td>\n",
              "      <td>15.0</td>\n",
              "      <td>20.0</td>\n",
              "      <td>20.0</td>\n",
              "      <td>40.0</td>\n",
              "      <td>411076.0</td>\n",
              "      <td>32.534446</td>\n",
              "      <td>23.641795</td>\n",
              "      <td>-20.0</td>\n",
              "      <td>20.0</td>\n",
              "      <td>30.0</td>\n",
              "      <td>40.0</td>\n",
              "      <td>90.0</td>\n",
              "      <td>411076.0</td>\n",
              "      <td>37.834391</td>\n",
              "      <td>22.074000</td>\n",
              "      <td>-20.0</td>\n",
              "      <td>20.0</td>\n",
              "      <td>30.0</td>\n",
              "      <td>50.0</td>\n",
              "      <td>90.0</td>\n",
              "    </tr>\n",
              "  </tbody>\n",
              "</table>\n",
              "</div>"
            ],
            "text/plain": [
              "            ESTU_GENERO                          ... FAMI_EDUCACIONMADRE                  \n",
              "                  count      mean      std  min  ...                 25%   50%   75%   max\n",
              "PUNT_GLOBAL                                      ...                                      \n",
              "0               95221.0  0.413365  0.49244  0.0  ...                20.0  30.0  40.0  90.0\n",
              "1              411076.0  0.468697  0.49902  0.0  ...                20.0  30.0  50.0  90.0\n",
              "\n",
              "[2 rows x 56 columns]"
            ]
          },
          "metadata": {
            "tags": []
          },
          "execution_count": 17
        }
      ]
    },
    {
      "cell_type": "code",
      "metadata": {
        "id": "iz47S8Bg59YY"
      },
      "source": [
        "df1=df[df[\"PUNT_GLOBAL\"]==0][:10000]\n",
        "df2=df[df[\"PUNT_GLOBAL\"]==1]\n",
        "df3=df1.append(df2[:10000])"
      ],
      "execution_count": null,
      "outputs": []
    },
    {
      "cell_type": "code",
      "metadata": {
        "id": "3y0JYAM-59YZ"
      },
      "source": [
        "Y=df3[\"PUNT_GLOBAL\"]\n",
        "X=df3[[\"ESTU_DEDICACIONLECTURADIARIA\",\"COLE_JORNADA\",\"FAMI_ESTRATOVIVIENDA\",\"COLE_NATURALEZA\",\"ESTU_GENERO\",\"FAMI_EDUCACIONMADRE\",\"FAMI_EDUCACIONPADRE\"]]\n",
        "scaler = MinMaxScaler()\n",
        "X = scaler.fit_transform(X)\n",
        "x_t,x_v,y_t,y_v=train_test_split(X,Y,test_size=0.30,random_state=10)"
      ],
      "execution_count": null,
      "outputs": []
    },
    {
      "cell_type": "code",
      "metadata": {
        "colab": {
          "base_uri": "https://localhost:8080/"
        },
        "id": "2KrFX0Kg59YZ",
        "outputId": "3f94f366-7683-4c86-c9e9-dff4c788fbc7"
      },
      "source": [
        "model = keras.Sequential([\n",
        "    keras.layers.Dense(20, activation='sigmoid',input_shape=(7,)),\n",
        "    keras.layers.Dense(15, activation='sigmoid'),\n",
        "    keras.layers.Dense(2, activation='sigmoid')\n",
        "])\n",
        "\n",
        "sgd = SGD(lr = 0.1)\n",
        "model.compile(optimizer = sgd, loss = 'mean_squared_error')\n",
        "model.fit(x_t, y_t, epochs = 100, batch_size = 100)"
      ],
      "execution_count": null,
      "outputs": [
        {
          "output_type": "stream",
          "text": [
            "Epoch 1/100\n",
            "140/140 [==============================] - 0s 951us/step - loss: 0.2544\n",
            "Epoch 2/100\n",
            "140/140 [==============================] - 0s 993us/step - loss: 0.2498\n",
            "Epoch 3/100\n",
            "140/140 [==============================] - 0s 1ms/step - loss: 0.2498\n",
            "Epoch 4/100\n",
            "140/140 [==============================] - 0s 1ms/step - loss: 0.2497\n",
            "Epoch 5/100\n",
            "140/140 [==============================] - 0s 1ms/step - loss: 0.2496\n",
            "Epoch 6/100\n",
            "140/140 [==============================] - 0s 1ms/step - loss: 0.2495\n",
            "Epoch 7/100\n",
            "140/140 [==============================] - 0s 1ms/step - loss: 0.2494\n",
            "Epoch 8/100\n",
            "140/140 [==============================] - 0s 1ms/step - loss: 0.2493\n",
            "Epoch 9/100\n",
            "140/140 [==============================] - 0s 1ms/step - loss: 0.2492\n",
            "Epoch 10/100\n",
            "140/140 [==============================] - 0s 1ms/step - loss: 0.2491\n",
            "Epoch 11/100\n",
            "140/140 [==============================] - 0s 1ms/step - loss: 0.2490\n",
            "Epoch 12/100\n",
            "140/140 [==============================] - 0s 1ms/step - loss: 0.2489\n",
            "Epoch 13/100\n",
            "140/140 [==============================] - 0s 975us/step - loss: 0.2488\n",
            "Epoch 14/100\n",
            "140/140 [==============================] - 0s 1ms/step - loss: 0.2487\n",
            "Epoch 15/100\n",
            "140/140 [==============================] - 0s 1ms/step - loss: 0.2485\n",
            "Epoch 16/100\n",
            "140/140 [==============================] - 0s 1ms/step - loss: 0.2484\n",
            "Epoch 17/100\n",
            "140/140 [==============================] - 0s 1ms/step - loss: 0.2483\n",
            "Epoch 18/100\n",
            "140/140 [==============================] - 0s 1ms/step - loss: 0.2480\n",
            "Epoch 19/100\n",
            "140/140 [==============================] - 0s 1ms/step - loss: 0.2479\n",
            "Epoch 20/100\n",
            "140/140 [==============================] - 0s 1ms/step - loss: 0.2477\n",
            "Epoch 21/100\n",
            "140/140 [==============================] - 0s 998us/step - loss: 0.2475\n",
            "Epoch 22/100\n",
            "140/140 [==============================] - 0s 1ms/step - loss: 0.2473\n",
            "Epoch 23/100\n",
            "140/140 [==============================] - 0s 1ms/step - loss: 0.2470\n",
            "Epoch 24/100\n",
            "140/140 [==============================] - 0s 996us/step - loss: 0.2466\n",
            "Epoch 25/100\n",
            "140/140 [==============================] - 0s 1ms/step - loss: 0.2464\n",
            "Epoch 26/100\n",
            "140/140 [==============================] - 0s 1ms/step - loss: 0.2463\n",
            "Epoch 27/100\n",
            "140/140 [==============================] - 0s 1ms/step - loss: 0.2459\n",
            "Epoch 28/100\n",
            "140/140 [==============================] - 0s 1ms/step - loss: 0.2458\n",
            "Epoch 29/100\n",
            "140/140 [==============================] - 0s 1ms/step - loss: 0.2452\n",
            "Epoch 30/100\n",
            "140/140 [==============================] - 0s 962us/step - loss: 0.2448\n",
            "Epoch 31/100\n",
            "140/140 [==============================] - 0s 1ms/step - loss: 0.2442\n",
            "Epoch 32/100\n",
            "140/140 [==============================] - 0s 1ms/step - loss: 0.2441\n",
            "Epoch 33/100\n",
            "140/140 [==============================] - 0s 980us/step - loss: 0.2435\n",
            "Epoch 34/100\n",
            "140/140 [==============================] - 0s 1ms/step - loss: 0.2431\n",
            "Epoch 35/100\n",
            "140/140 [==============================] - 0s 1ms/step - loss: 0.2424\n",
            "Epoch 36/100\n",
            "140/140 [==============================] - 0s 1ms/step - loss: 0.2420\n",
            "Epoch 37/100\n",
            "140/140 [==============================] - 0s 1ms/step - loss: 0.2408\n",
            "Epoch 38/100\n",
            "140/140 [==============================] - 0s 1ms/step - loss: 0.2400\n",
            "Epoch 39/100\n",
            "140/140 [==============================] - 0s 1ms/step - loss: 0.2400\n",
            "Epoch 40/100\n",
            "140/140 [==============================] - 0s 1ms/step - loss: 0.2387\n",
            "Epoch 41/100\n",
            "140/140 [==============================] - 0s 1ms/step - loss: 0.2381\n",
            "Epoch 42/100\n",
            "140/140 [==============================] - 0s 1ms/step - loss: 0.2372\n",
            "Epoch 43/100\n",
            "140/140 [==============================] - 0s 1ms/step - loss: 0.2361\n",
            "Epoch 44/100\n",
            "140/140 [==============================] - 0s 1ms/step - loss: 0.2346\n",
            "Epoch 45/100\n",
            "140/140 [==============================] - 0s 1ms/step - loss: 0.2349\n",
            "Epoch 46/100\n",
            "140/140 [==============================] - 0s 1ms/step - loss: 0.2329\n",
            "Epoch 47/100\n",
            "140/140 [==============================] - 0s 1ms/step - loss: 0.2318\n",
            "Epoch 48/100\n",
            "140/140 [==============================] - 0s 1ms/step - loss: 0.2321\n",
            "Epoch 49/100\n",
            "140/140 [==============================] - 0s 990us/step - loss: 0.2306\n",
            "Epoch 50/100\n",
            "140/140 [==============================] - 0s 1ms/step - loss: 0.2294\n",
            "Epoch 51/100\n",
            "140/140 [==============================] - 0s 1ms/step - loss: 0.2298\n",
            "Epoch 52/100\n",
            "140/140 [==============================] - 0s 1ms/step - loss: 0.2284\n",
            "Epoch 53/100\n",
            "140/140 [==============================] - 0s 1ms/step - loss: 0.2276\n",
            "Epoch 54/100\n",
            "140/140 [==============================] - 0s 1ms/step - loss: 0.2271\n",
            "Epoch 55/100\n",
            "140/140 [==============================] - 0s 1ms/step - loss: 0.2262\n",
            "Epoch 56/100\n",
            "140/140 [==============================] - 0s 1ms/step - loss: 0.2259\n",
            "Epoch 57/100\n",
            "140/140 [==============================] - 0s 1ms/step - loss: 0.2241\n",
            "Epoch 58/100\n",
            "140/140 [==============================] - 0s 1ms/step - loss: 0.2238\n",
            "Epoch 59/100\n",
            "140/140 [==============================] - 0s 996us/step - loss: 0.2263\n",
            "Epoch 60/100\n",
            "140/140 [==============================] - 0s 1ms/step - loss: 0.2218\n",
            "Epoch 61/100\n",
            "140/140 [==============================] - 0s 986us/step - loss: 0.2230\n",
            "Epoch 62/100\n",
            "140/140 [==============================] - 0s 1ms/step - loss: 0.2234\n",
            "Epoch 63/100\n",
            "140/140 [==============================] - 0s 1ms/step - loss: 0.2225\n",
            "Epoch 64/100\n",
            "140/140 [==============================] - 0s 1ms/step - loss: 0.2203\n",
            "Epoch 65/100\n",
            "140/140 [==============================] - 0s 1ms/step - loss: 0.2212\n",
            "Epoch 66/100\n",
            "140/140 [==============================] - 0s 1ms/step - loss: 0.2202\n",
            "Epoch 67/100\n",
            "140/140 [==============================] - 0s 1ms/step - loss: 0.2212\n",
            "Epoch 68/100\n",
            "140/140 [==============================] - 0s 1ms/step - loss: 0.2219\n",
            "Epoch 69/100\n",
            "140/140 [==============================] - 0s 1ms/step - loss: 0.2214\n",
            "Epoch 70/100\n",
            "140/140 [==============================] - 0s 1ms/step - loss: 0.2223\n",
            "Epoch 71/100\n",
            "140/140 [==============================] - 0s 1ms/step - loss: 0.2204\n",
            "Epoch 72/100\n",
            "140/140 [==============================] - 0s 950us/step - loss: 0.2212\n",
            "Epoch 73/100\n",
            "140/140 [==============================] - 0s 1ms/step - loss: 0.2201\n",
            "Epoch 74/100\n",
            "140/140 [==============================] - 0s 1ms/step - loss: 0.2211\n",
            "Epoch 75/100\n",
            "140/140 [==============================] - 0s 1ms/step - loss: 0.2211\n",
            "Epoch 76/100\n",
            "140/140 [==============================] - 0s 1ms/step - loss: 0.2202\n",
            "Epoch 77/100\n",
            "140/140 [==============================] - 0s 1ms/step - loss: 0.2207\n",
            "Epoch 78/100\n",
            "140/140 [==============================] - 0s 1ms/step - loss: 0.2203\n",
            "Epoch 79/100\n",
            "140/140 [==============================] - 0s 1ms/step - loss: 0.2211\n",
            "Epoch 80/100\n",
            "140/140 [==============================] - 0s 1ms/step - loss: 0.2195\n",
            "Epoch 81/100\n",
            "140/140 [==============================] - 0s 1ms/step - loss: 0.2179\n",
            "Epoch 82/100\n",
            "140/140 [==============================] - 0s 1ms/step - loss: 0.2182\n",
            "Epoch 83/100\n",
            "140/140 [==============================] - 0s 1ms/step - loss: 0.2204\n",
            "Epoch 84/100\n",
            "140/140 [==============================] - 0s 1ms/step - loss: 0.2190\n",
            "Epoch 85/100\n",
            "140/140 [==============================] - 0s 1ms/step - loss: 0.2181\n",
            "Epoch 86/100\n",
            "140/140 [==============================] - 0s 1ms/step - loss: 0.2180\n",
            "Epoch 87/100\n",
            "140/140 [==============================] - 0s 983us/step - loss: 0.2194\n",
            "Epoch 88/100\n",
            "140/140 [==============================] - 0s 1ms/step - loss: 0.2183\n",
            "Epoch 89/100\n",
            "140/140 [==============================] - 0s 995us/step - loss: 0.2186\n",
            "Epoch 90/100\n",
            "140/140 [==============================] - 0s 1ms/step - loss: 0.2198\n",
            "Epoch 91/100\n",
            "140/140 [==============================] - 0s 1ms/step - loss: 0.2183\n",
            "Epoch 92/100\n",
            "140/140 [==============================] - 0s 1ms/step - loss: 0.2199\n",
            "Epoch 93/100\n",
            "140/140 [==============================] - 0s 1ms/step - loss: 0.2196\n",
            "Epoch 94/100\n",
            "140/140 [==============================] - 0s 1ms/step - loss: 0.2185\n",
            "Epoch 95/100\n",
            "140/140 [==============================] - 0s 1ms/step - loss: 0.2185\n",
            "Epoch 96/100\n",
            "140/140 [==============================] - 0s 1ms/step - loss: 0.2190\n",
            "Epoch 97/100\n",
            "140/140 [==============================] - 0s 1ms/step - loss: 0.2200\n",
            "Epoch 98/100\n",
            "140/140 [==============================] - 0s 1ms/step - loss: 0.2169\n",
            "Epoch 99/100\n",
            "140/140 [==============================] - 0s 1ms/step - loss: 0.2184\n",
            "Epoch 100/100\n",
            "140/140 [==============================] - 0s 1ms/step - loss: 0.2190\n"
          ],
          "name": "stdout"
        },
        {
          "output_type": "execute_result",
          "data": {
            "text/plain": [
              "<tensorflow.python.keras.callbacks.History at 0x7f37d59fe358>"
            ]
          },
          "metadata": {
            "tags": []
          },
          "execution_count": 23
        }
      ]
    },
    {
      "cell_type": "code",
      "metadata": {
        "id": "paiSsiGzO_sH",
        "colab": {
          "base_uri": "https://localhost:8080/"
        },
        "outputId": "2a3d4c23-0515-4d90-cfa1-2c64624b69b1"
      },
      "source": [
        "test_loss = model.evaluate(x_v, y_v)\n",
        "\n",
        "print('Test accuracy:', 1-test_loss)"
      ],
      "execution_count": null,
      "outputs": [
        {
          "output_type": "stream",
          "text": [
            "188/188 [==============================] - 0s 891us/step - loss: 0.2198\n",
            "Test accuracy: 0.7802043110132217\n"
          ],
          "name": "stdout"
        }
      ]
    },
    {
      "cell_type": "code",
      "metadata": {
        "id": "6s2LY8IYOR3P",
        "colab": {
          "base_uri": "https://localhost:8080/"
        },
        "outputId": "071cdd4e-1951-42fd-aa84-87b0e916ef2b"
      },
      "source": [
        "from sklearn.metrics import confusion_matrix\n",
        "predictions=model.predict(x_v)\n",
        "y_hat = np.argmax(predictions,axis=1)\n",
        "confusion_matrix(y_v, y_hat)"
      ],
      "execution_count": null,
      "outputs": [
        {
          "output_type": "execute_result",
          "data": {
            "text/plain": [
              "array([[1753, 1244],\n",
              "       [1205, 1798]])"
            ]
          },
          "metadata": {
            "tags": []
          },
          "execution_count": 25
        }
      ]
    },
    {
      "cell_type": "code",
      "metadata": {
        "id": "3_87aBbaP3jH"
      },
      "source": [
        "print(predictions)"
      ],
      "execution_count": null,
      "outputs": []
    },
    {
      "cell_type": "code",
      "metadata": {
        "id": "7U8P1zAu59Ya"
      },
      "source": [
        "# roc curve and auc\n",
        "from sklearn.datasets import make_classification\n",
        "from sklearn.linear_model import LogisticRegression\n",
        "from sklearn.model_selection import train_test_split\n",
        "from sklearn.metrics import roc_curve\n",
        "from sklearn.metrics import roc_auc_score\n",
        "from matplotlib import pyplot\n",
        "# generate 2 class dataset\n",
        "# split into train/test sets\n",
        "trainX, testX, trainy, testy = train_test_split(X,Y,test_size=0.20,random_state=10)\n",
        "# generate a no skill prediction (majority class)\n",
        "ns_probs = [0 for _ in range(len(testy))]\n",
        "# fit a model\n",
        "# predict probabilities\n",
        "lr_probs = clf.predict_proba(testX)\n",
        "# keep probabilities for the positive outcome only\n",
        "lr_probs = lr_probs[:, 1]\n",
        "# calculate scores\n",
        "ns_auc = roc_auc_score(testy, ns_probs)\n",
        "lr_auc = roc_auc_score(testy, lr_probs)\n",
        "# summarize scores\n",
        "print('0: ROC AUC=%.3f' % (ns_auc))\n",
        "print('1: ROC AUC=%.3f' % (lr_auc))\n",
        "# calculate roc curves\n",
        "ns_fpr, ns_tpr, _ = roc_curve(testy, ns_probs)\n",
        "lr_fpr, lr_tpr, _ = roc_curve(testy, lr_probs)\n",
        "# plot the roc curve for the model\n",
        "pyplot.plot(ns_fpr, ns_tpr, linestyle='--', label='0')\n",
        "pyplot.plot(lr_fpr, lr_tpr, marker='*', label='1')\n",
        "# axis labels\n",
        "pyplot.xlabel('False Positive Rate')\n",
        "pyplot.ylabel('True Positive Rate')\n",
        "# show the legend\n",
        "pyplot.legend()\n",
        "# show the plot\n",
        "pyplot.show()"
      ],
      "execution_count": null,
      "outputs": []
    },
    {
      "cell_type": "code",
      "metadata": {
        "id": "1NyWXkaJ59Ya"
      },
      "source": [
        "y_o=clf.predict(x_v)\n",
        "cont=0\n",
        "contt=0\n",
        "y_o=np.array(y_o)\n",
        "y_v=np.array(y_v)\n",
        "for i in range(0,400):\n",
        "    if (y_o[i]==y_v[i] and y_o[i] == 0) :\n",
        "        cont=cont+1\n",
        "    if (y_v[i] == 0) :\n",
        "        contt=contt+1\n",
        "print(cont/contt)"
      ],
      "execution_count": null,
      "outputs": []
    },
    {
      "cell_type": "code",
      "metadata": {
        "id": "5sCbzeqQ59Ya"
      },
      "source": [
        "sns.kdeplot(x=abs(y_o - y_v) ,shade=True,color='green');"
      ],
      "execution_count": null,
      "outputs": []
    },
    {
      "cell_type": "code",
      "metadata": {
        "id": "wfj4llpf59Ya"
      },
      "source": [
        "z=clf.predict_proba(x_v)"
      ],
      "execution_count": null,
      "outputs": []
    },
    {
      "cell_type": "code",
      "metadata": {
        "id": "ajKmN7xe59Ya"
      },
      "source": [
        "clf.predict(x_v[:10])"
      ],
      "execution_count": null,
      "outputs": []
    },
    {
      "cell_type": "code",
      "metadata": {
        "id": "0WwRFU5N59Yb"
      },
      "source": [
        "listZ=[]\n",
        "for i in z:\n",
        "    if i[0]>i[1]:\n",
        "        listZ.append(1)\n",
        "    if i[0]<i[1]:\n",
        "        listZ.append(500)"
      ],
      "execution_count": null,
      "outputs": []
    },
    {
      "cell_type": "code",
      "metadata": {
        "id": "vdY-Ywo059Yb"
      },
      "source": [
        "cont=0\n",
        "y_o=np.array(listZ)\n",
        "y_v=np.array(y_v)\n",
        "for i in range(0,400):\n",
        "    if (y_v[i] == y_o[i]) :\n",
        "        cont=cont+1\n",
        "print(cont/38205)"
      ],
      "execution_count": null,
      "outputs": []
    }
  ]
}